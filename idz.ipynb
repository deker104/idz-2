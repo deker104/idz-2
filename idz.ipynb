{
 "cells": [
  {
   "cell_type": "markdown",
   "metadata": {},
   "source": [
    "# Индивидуальное домашнее задание по линейной алгебре 2\n",
    "#### Шиндов Даниил Артёмович, 1 курс, БПМИ221\n",
    "\n",
    "Читайте описание в `README.md`"
   ]
  },
  {
   "cell_type": "code",
   "execution_count": 1,
   "metadata": {},
   "outputs": [],
   "source": [
    "import os\n",
    "\n",
    "try:\n",
    "    import google.colab\n",
    "    IS_COLAB = True\n",
    "except ImportError:\n",
    "    IS_COLAB = False\n",
    "\n",
    "if IS_COLAB:\n",
    "    !git clone https://github.com/deker104/idz-2\n",
    "    os.chdir('/content/idz-2')\n",
    "    !git pull"
   ]
  },
  {
   "cell_type": "code",
   "execution_count": 2,
   "metadata": {},
   "outputs": [],
   "source": [
    "from matrix import Matrix\n",
    "from polynomial import Polynomial"
   ]
  },
  {
   "cell_type": "markdown",
   "metadata": {},
   "source": [
    "# Задача 1\n",
    "\n",
    "$$\n",
    "\\begin{pmatrix}\n",
    "1 & 2 & 3 & 4 & 5 & 6 & 7 & 8 \\\\\n",
    "4 & 3 & 8 & 1 & 6 & 7 & 2 & 5\n",
    "\\end{pmatrix}^{-1}\n",
    "= ((1, 4) (2, 3, 8, 5, 6, 7))^{-1}\n",
    "= (4, 1) (7, 6, 5, 8, 3, 2)\n",
    "$$\n",
    "\n",
    "$$\n",
    "\\begin{pmatrix}\n",
    "1 & 2 & 3 & 4 & 5 & 6 & 7 & 8 \\\\\n",
    "2 & 6 & 8 & 1 & 3 & 5 & 4 & 7\n",
    "\\end{pmatrix}^{15}\n",
    "= (1, 2, 6, 5, 3, 8, 7, 4)^{15}\n",
    "= (4, 7, 8, 3, 5, 6, 2, 1)\n",
    "$$\n",
    "\n",
    "$$\n",
    "((4, 1) (7, 6, 5, 8, 3, 2)) (4, 7, 8, 3, 5, 6, 2, 1)\n",
    "= \\begin{pmatrix}\n",
    "1 & 2 & 3 & 4 & 5 & 6 & 7 & 8 \\\\\n",
    "4 & 1 & 5 & 7 & 6 & 2 & 8 & 3 \\\\\n",
    "1 & 4 & 8 & 6 & 5 & 7 & 3 & 2\n",
    "\\end{pmatrix}\n",
    "= (2, 4, 6, 7, 3, 8)\n",
    "$$\n",
    "\n",
    "$$\n",
    "(2, 4, 6, 7, 3, 8)^{181} = (2, 4, 6, 7, 3, 8)\n",
    "$$\n",
    "\n",
    "$$\n",
    "\\sigma(1, 8, 3)(2, 7, 6)(4, 5)\\sigma = (2, 4, 6, 7, 3, 8) \\\\\n",
    "$$\n",
    "\n",
    "$$\n",
    "((1, 8, 3)(2, 7, 6)(4, 5)\\sigma)^2 = ((1, 8, 3)(2, 7, 6)(4, 5))(2, 4, 6, 7, 3, 8) \\\\\n",
    "= \\begin{pmatrix}\n",
    "1 & 2 & 3 & 4 & 5 & 6 & 7 & 8 \\\\\n",
    "1 & 4 & 8 & 6 & 5 & 7 & 3 & 2 \\\\\n",
    "8 & 5 & 3 & 2 & 4 & 6 & 1 & 7\n",
    "\\end{pmatrix} = (1, 8, 7) (2, 5, 4) (3) (6)\n",
    "$$\n",
    "\n",
    "Пускай $\\tau = (1, 8, 3)(2, 7, 6)(4, 5)\\sigma$. При этом $\\tau = p_1 p_2 \\ldots p_k$, где $p_1, \\ldots, p_k$ -- какие-то циклы. Если длина какого то из циклов делится на 2, то при возведении в квадрат он распадётся на 2 цикла одинаковой длины. В нашем случае мы можем сгруппировать пары циклов длины 1 и 3. Каждый из них мог получиться либо при возведении в квадрат нечетного цикла, либо при разбиении цикла четной длины на 2. Для циклов длины 3 получили 1 вариант в первом случае и 3 варианта во втором. Для циклов длины 1 получили 1 вариант в первом случае и 1 во втором. Итого 8 вариантов.\n",
    "\n",
    "Дальше ручками будет слишком сложно (я слабый)."
   ]
  },
  {
   "cell_type": "code",
   "execution_count": 3,
   "metadata": {},
   "outputs": [],
   "source": [
    "def identity(n):\n",
    "    perm = list(range(n))\n",
    "    return perm\n",
    "\n",
    "def from_cycle(cycle, n):\n",
    "    perm = identity(n)\n",
    "    shift = cycle[1:] + [cycle[0]]\n",
    "    for x, y in zip(cycle, shift):\n",
    "        perm[x] = y\n",
    "    return perm\n",
    "\n",
    "def multiply(a, b):\n",
    "    assert len(a) == len(b)\n",
    "    n = len(a)\n",
    "    res = b.copy()\n",
    "    for i in range(n):\n",
    "        res[i] = a[res[i]]\n",
    "    return res"
   ]
  },
  {
   "cell_type": "code",
   "execution_count": 4,
   "metadata": {},
   "outputs": [],
   "source": [
    "a = [\n",
    "    identity(8),\n",
    "    from_cycle([2, 5], 8)\n",
    "]\n",
    "b = [\n",
    "    multiply(\n",
    "        from_cycle([0, 6, 7], 8),\n",
    "        from_cycle([1, 3, 4], 8)\n",
    "    )\n",
    "]\n",
    "cycle_1 = [0, 7, 6]\n",
    "for cycle_2 in [1, 4, 3], [4, 3, 1], [3, 1, 4]:\n",
    "    cycle = []\n",
    "    for i in range(3):\n",
    "        cycle.append(cycle_1[i])\n",
    "        cycle.append(cycle_2[i])\n",
    "    b.append(from_cycle(cycle, 8))\n"
   ]
  },
  {
   "cell_type": "markdown",
   "metadata": {},
   "source": [
    "На этом этапе нам нужно получить все возможные комбинации $\\tau$, а затем домножить их слева на обратную к перестановке $(1, 8, 3)(2, 7, 6)(4, 5)$, чтобы получить $\\phi$."
   ]
  },
  {
   "cell_type": "code",
   "execution_count": 5,
   "metadata": {},
   "outputs": [
    {
     "name": "stdout",
     "output_type": "stream",
     "text": [
      "[2, 5, 8, 4, 6, 7, 1, 3]\n",
      "[6, 1, 8, 3, 2, 7, 5, 4]\n",
      "[4, 3, 8, 2, 1, 7, 6, 5]\n",
      "[5, 2, 8, 1, 3, 7, 4, 6]\n",
      "[2, 5, 7, 4, 6, 8, 1, 3]\n",
      "[6, 1, 7, 3, 2, 8, 5, 4]\n",
      "[4, 3, 7, 2, 1, 8, 6, 5]\n",
      "[5, 2, 7, 1, 3, 8, 4, 6]\n"
     ]
    }
   ],
   "source": [
    "c = [2, 5, 7, 4, 3, 6, 1, 0]\n",
    "ans = []\n",
    "for perm_a in a:\n",
    "    for perm_b in b:\n",
    "        perm = multiply(c, multiply(perm_a, perm_b))\n",
    "        ans.append(perm)\n",
    "        print([i + 1 for i in perm])"
   ]
  },
  {
   "cell_type": "markdown",
   "metadata": {},
   "source": [
    "Как говорится, вот они слева направо. На всякий случай убедимся, что такие перестановки действительно являются подходящими ответами."
   ]
  },
  {
   "cell_type": "code",
   "execution_count": 6,
   "metadata": {},
   "outputs": [
    {
     "name": "stdout",
     "output_type": "stream",
     "text": [
      "True\n",
      "True\n",
      "True\n",
      "True\n",
      "True\n",
      "True\n",
      "True\n",
      "True\n"
     ]
    }
   ],
   "source": [
    "a = [7, 6, 0, 4, 3, 1, 5, 2]\n",
    "b = [0, 3, 7, 5, 4, 6, 2, 1]\n",
    "for perm in ans:\n",
    "    print(multiply(perm, multiply(a, perm)) == b)"
   ]
  },
  {
   "cell_type": "markdown",
   "metadata": {},
   "source": [
    "# Задача 2\n",
    "\n",
    "Для удобства проименуем матрицы\n",
    "\n",
    "$$\n",
    "A = \\begin{bmatrix}\n",
    "-2 & -2 & 1 & 3 \\\\\n",
    "-1 & 2 & -2 & -2 \\\\\n",
    "2 & 1 & 3 & 3 \\\\\n",
    "-2 & 1 & 1 & 2\n",
    "\\end{bmatrix}\n",
    "$$\n",
    "\n",
    "$$\n",
    "R = \\begin{bmatrix}\n",
    "3 & -3 & -7 & -3 \\\\\n",
    "-4 & 3 & 2 & -10 \\\\\n",
    "6 & -9 & -1 & -8 \\\\\n",
    "-1 & -9 & -10 & -4\n",
    "\\end{bmatrix}\n",
    "$$\n",
    "\n",
    "$$\n",
    "T = X + R\n",
    "$$\n",
    "\n",
    "$$\n",
    "B = \\begin{bmatrix}\n",
    "-1 & -3 & -1 & -2 \\\\\n",
    "2 & 1 & -1 & 3 \\\\\n",
    "-2 & 1 & 2 & 1 \\\\\n",
    "-2 & -1 & -1 & -2\n",
    "\\end{bmatrix}\n",
    "$$\n",
    "\n",
    "$$\n",
    "C = \\begin{bmatrix}\n",
    "1 & 1 & -1 & 1 \\\\\n",
    "-1 & -2 & 2 & -2 \\\\\n",
    "1 & 2 & -3 & 3 \\\\\n",
    "-1 & -2 & 1 & -2\n",
    "\\end{bmatrix}\n",
    "$$\n",
    "\n",
    "Уравнение выглядит следующим образом:\n",
    "$$\n",
    "A T^{-1} B = C \\\\\n",
    "T^{-1} B = A^{-1} C \\\\\n",
    "B = T A^{-1} C \\\\\n",
    "B C^{-1} = T A^{-1} \\\\\n",
    "B C^{-1} A = T \\\\\n",
    "X = B C^{-1} A - R\n",
    "$$\n",
    "\n",
    "В общем случае это решение не работает. Оно будет работать, если мы сможем показать что матрицы $A$ и $B$, а также получившаяся матрица $T$, обратимы. Для этого будет достаточно найти обратные к ним.\n",
    "\n",
    "Искать обратные будем с помощью метода Гаусса. Если применив его к блочной матрице $\\begin{pmatrix} A & E \\end{pmatrix}$ мы получим матрицу вида $\\begin{pmatrix} E & B \\end{pmatrix}$, то матрица $B$ как раз будет обратной к $A$."
   ]
  },
  {
   "cell_type": "code",
   "execution_count": 7,
   "metadata": {},
   "outputs": [],
   "source": [
    "def find_inverse(A: Matrix) -> Matrix:\n",
    "    assert A.height == A.width\n",
    "    n = A.height\n",
    "    M = Matrix.zero(n, 2 * n)\n",
    "    for i in range(n):\n",
    "        for j in range(n):\n",
    "            M.data[i][j] = A.data[i][j]\n",
    "        M.data[i][i + n] = 1\n",
    "    M.make_perfect()\n",
    "    for i in range(n):\n",
    "        assert M.data[i][i] == 1\n",
    "    B = Matrix.zero(n, n)\n",
    "    for i in range(n):\n",
    "        for j in range(n):\n",
    "            B.data[i][j] = M.data[i][j + n]\n",
    "    return B"
   ]
  },
  {
   "cell_type": "code",
   "execution_count": 8,
   "metadata": {},
   "outputs": [],
   "source": [
    "A = Matrix([\n",
    "    [-2, -2, 1, 3],\n",
    "    [-1, 2, -2, -2],\n",
    "    [2, 1, 3, 3],\n",
    "    [-2, 1, 1, 2]\n",
    "])\n",
    "\n",
    "R = Matrix([\n",
    "    [3, -3, -7, -3],\n",
    "    [-4, 3, 2, -10],\n",
    "    [6, -9, -1, -8],\n",
    "    [-1, -9, -10, -4]\n",
    "])\n",
    "\n",
    "B = Matrix([\n",
    "    [-1, -3, -1, -2],\n",
    "    [2, 1, -1, 3],\n",
    "    [-2, 1, 2, 1],\n",
    "    [-2, -1, -1, -2]\n",
    "])\n",
    "\n",
    "C = Matrix([\n",
    "    [1, 1, -1, 1],\n",
    "    [-1, -2, 2, -2],\n",
    "    [1, 2, -3, 3],\n",
    "    [-1, -2, 1, -2]\n",
    "])"
   ]
  },
  {
   "cell_type": "code",
   "execution_count": 9,
   "metadata": {},
   "outputs": [
    {
     "data": {
      "text/latex": [
       "\\begin{bmatrix}\n",
       "1 & 0 & 0 & 0 \\\\\n",
       "0 & 1 & 0 & 0 \\\\\n",
       "0 & 0 & 1 & 0 \\\\\n",
       "0 & 0 & 0 & 1 \\\\\n",
       "\n",
       "\\end{bmatrix}"
      ],
      "text/plain": [
       "<matrix.Matrix at 0x7f021945c8e0>"
      ]
     },
     "metadata": {},
     "output_type": "display_data"
    },
    {
     "data": {
      "text/latex": [
       "\\begin{bmatrix}\n",
       "1 & 0 & 0 & 0 \\\\\n",
       "0 & 1 & 0 & 0 \\\\\n",
       "0 & 0 & 1 & 0 \\\\\n",
       "0 & 0 & 0 & 1 \\\\\n",
       "\n",
       "\\end{bmatrix}"
      ],
      "text/plain": [
       "<matrix.Matrix at 0x7f021945c220>"
      ]
     },
     "metadata": {},
     "output_type": "display_data"
    }
   ],
   "source": [
    "display(find_inverse(A) @ A)\n",
    "display(find_inverse(B) @ B)"
   ]
  },
  {
   "cell_type": "code",
   "execution_count": 10,
   "metadata": {},
   "outputs": [
    {
     "data": {
      "text/latex": [
       "\\begin{bmatrix}\n",
       "-6 & 2 & 7 & 12 \\\\\n",
       "-3 & 4 & -3 & 1 \\\\\n",
       "16 & 7 & -8 & -21 \\\\\n",
       "3 & -2 & 7 & 4 \\\\\n",
       "\n",
       "\\end{bmatrix}"
      ],
      "text/plain": [
       "<matrix.Matrix at 0x7f021945d660>"
      ]
     },
     "metadata": {},
     "output_type": "display_data"
    },
    {
     "data": {
      "text/latex": [
       "\\begin{bmatrix}\n",
       "1 & 0 & 0 & 0 \\\\\n",
       "0 & 1 & 0 & 0 \\\\\n",
       "0 & 0 & 1 & 0 \\\\\n",
       "0 & 0 & 0 & 1 \\\\\n",
       "\n",
       "\\end{bmatrix}"
      ],
      "text/plain": [
       "<matrix.Matrix at 0x7f021945e050>"
      ]
     },
     "metadata": {},
     "output_type": "display_data"
    }
   ],
   "source": [
    "T = B @ find_inverse(C) @ A\n",
    "display(T)\n",
    "display(find_inverse(T) @ T)"
   ]
  },
  {
   "cell_type": "code",
   "execution_count": 11,
   "metadata": {},
   "outputs": [
    {
     "data": {
      "text/latex": [
       "\\begin{bmatrix}\n",
       "-9 & 5 & 14 & 15 \\\\\n",
       "1 & 1 & -5 & 11 \\\\\n",
       "10 & 16 & -7 & -13 \\\\\n",
       "4 & 7 & 17 & 8 \\\\\n",
       "\n",
       "\\end{bmatrix}"
      ],
      "text/plain": [
       "<matrix.Matrix at 0x7f021945e0e0>"
      ]
     },
     "metadata": {},
     "output_type": "display_data"
    },
    {
     "data": {
      "text/plain": [
       "True"
      ]
     },
     "metadata": {},
     "output_type": "display_data"
    }
   ],
   "source": [
    "X = T - R\n",
    "display(X)\n",
    "display((A @ find_inverse(X + R) @ B).data == C.data)"
   ]
  },
  {
   "cell_type": "markdown",
   "metadata": {},
   "source": [
    "Получили, что\n",
    "\n",
    "$$\n",
    "X = \\begin{bmatrix}\n",
    "-9 & 5 & 14 & 15 \\\\\n",
    "1 & 1 & -5 & 11 \\\\\n",
    "10 & 16 & -7 & -13 \\\\\n",
    "4 & 7 & 17 & 8\n",
    "\\end{bmatrix}\n",
    "$$"
   ]
  },
  {
   "cell_type": "markdown",
   "metadata": {},
   "source": [
    "# Задача 3\n",
    "\n",
    "$$\n",
    "\\chi(\\lambda) = \\det(\\lambda E - A) = \\det\\left(\n",
    "\\begin{bmatrix}\n",
    "\\lambda + 2 & 3 & -4 & 4 \\\\\n",
    "-2 & \\lambda + 3 & -4 & -1 \\\\\n",
    "-2 & 3 & \\lambda - 5 & 1 \\\\\n",
    "0 & 0 & 1 & \\lambda - 1\n",
    "\\end{bmatrix}\n",
    "\\right)\n",
    "$$\n",
    "Разложим определитель по последней строке\n",
    "$$\n",
    "= -\\det\\left(\n",
    "\\begin{bmatrix}\n",
    "\\lambda + 2 & 3 & 4 \\\\\n",
    "-2 & \\lambda + 3 & -1 \\\\\n",
    "-2 & 3 & 1 \\\\\n",
    "\\end{bmatrix}\n",
    "\\right)\n",
    "+ (\\lambda - 1) \\det\\left(\n",
    "\\begin{bmatrix}\n",
    "\\lambda + 2 & 3 & -4 \\\\\n",
    "-2 & \\lambda + 3 & -4\\\\\n",
    "-2 & 3 & \\lambda - 5 \\\\\n",
    "\\end{bmatrix}\n",
    "\\right) \\\\\n",
    "= -\\det\\left(\n",
    "\\begin{bmatrix}\n",
    "\\lambda + 4 & 0 & 3 \\\\\n",
    "0 & \\lambda & -2 \\\\\n",
    "-2 & 3 & 1 \\\\\n",
    "\\end{bmatrix}\n",
    "\\right)\n",
    "+ (\\lambda - 1) \\det\\left(\n",
    "\\begin{bmatrix}\n",
    "\\lambda + 4 & 0 & 5 \\\\\n",
    "0 & \\lambda & 1\\\\\n",
    "-2 & 3 & \\lambda - 4 \\\\\n",
    "\\end{bmatrix}\n",
    "\\right) \\\\\n",
    "\\\\\n",
    "= -\\lambda^2 - 4\\lambda - 6\\lambda - 24 - 6\\lambda \\\\\n",
    "+ (\\lambda - 1)(\\lambda^3 - 16\\lambda - 3\\lambda - 12 + 10\\lambda) \\\\\n",
    "= \\lambda^{4} - \\lambda^{3} - 10\\lambda^{2} - 19\\lambda - 12\n",
    "$$"
   ]
  },
  {
   "cell_type": "markdown",
   "metadata": {},
   "source": [
    "Теперь заметим, что\n",
    "$$\n",
    "\\det((A^2 - A - 2)^{-2}) = \\frac{1}{(\\det(A - 2)\\det(A + 1))^2}\n",
    "= \\frac{1}{(\\chi(2)\\chi(-1))^2} = \\frac{1}{6724}\n",
    "$$"
   ]
  },
  {
   "cell_type": "markdown",
   "metadata": {},
   "source": [
    "# Задача 4\n",
    "\n",
    "Для начала сделаем пару элементарных преобразований, которые не изменят определитель.\n",
    "\n",
    "$$\n",
    "\\det\\left(\n",
    "\\begin{bmatrix}\n",
    "-8 & -1 & -3 & -9 & -4 & 1 & x \\\\\n",
    "x & 5 & 4 & -4 & -6 & -8 & 6 \\\\\n",
    "2 & 8 & 4 & -3 & -7 & x & -6 \\\\\n",
    "x & 8 & -6 & 5 & -8 & -1 & 5 \\\\\n",
    "1 & -1 & x & -9 & x & 1 & 3 \\\\\n",
    "1 & -3 & 4 & x & 7 & 9 & 6 \\\\\n",
    "-6 & x & -2 & -9 & 5 & -8 & -2\n",
    "\\end{bmatrix}\n",
    "\\right) \\\\\n",
    "= \\det\\left(\n",
    "\\begin{bmatrix}\n",
    "-8 & -1 & -3 & -9 & -1 & 1 & x \\\\\n",
    "x & 5 & 4 & -4 & -10 & -8 & 6 \\\\\n",
    "2 & 8 & 4 & -3 & -11 & x & -6 \\\\\n",
    "0 & 3 & -10 & 9 & -10 & 7 & -1 \\\\\n",
    "1 & -1 & x & -9 & 0 & 1 & 3 \\\\\n",
    "1 & -3 & 4 & x & 3 & 9 & 6 \\\\\n",
    "-6 & x & -2 & -9 & 7 & -8 & -2\n",
    "\\end{bmatrix}\n",
    "\\right)\n",
    "$$\n",
    "\n",
    "А ещё посвапаем местами строки чтобы получилась красивая диагональ:\n",
    "\n",
    "$$\n",
    "= -\\det\\left(\n",
    "\\begin{bmatrix}\n",
    "x & 5 & 4 & -4 & -10 & -8 & 6 \\\\\n",
    "-6 & x & -2 & -9 & 7 & -8 & -2 \\\\\n",
    "1 & -1 & x & -9 & 0 & 1 & 3 \\\\\n",
    "1 & -3 & 4 & x & 3 & 9 & 6 \\\\\n",
    "0 & 3 & -10 & 9 & -10 & 7 & -1 \\\\\n",
    "2 & 8 & 4 & -3 & -11 & x & -6 \\\\\n",
    "-8 & -1 & -3 & -9 & -1 & 1 & x \\\\\n",
    "\\end{bmatrix}\n",
    "\\right)\n",
    "$$\n",
    "\n",
    "Управились за 15 свапов, а значит нужно поменять знак у определителя. Теперь на главной диагонали у нас все 6 $x$'ов. При подсчете определителя по определению нам нужно выбрать перестановки, содержащие 5 из них, чтобы получить коэффициент при $x^5$. Заметим, что каждая из таких перестановок будет всего лишь транспозицией, состоящей из номера строки, $x$ на которой мы не будем брать, и 5 -- номера единственной строки, на которой нет $x$. Каждая из таких строк внесёт отрицательный вклад в коэффициент. Посчитаем ответ:\n",
    "\n",
    "$$\n",
    "c_{5} = 0 \\cdot (-10) + 3 \\cdot 7 + (-10) \\cdot 0 + 9 \\cdot 3 + (-11) \\cdot 7 + (-1) \\cdot (-1) = -28\n",
    "$$"
   ]
  },
  {
   "cell_type": "markdown",
   "metadata": {},
   "source": [
    "# Задача 5\n",
    "\n",
    "Пускай $A'$ -- дополненная справа нулями до квадратной матрица $A$, аналогично дополним нулями снизу $B$ и получим $B'$.\n",
    "\n",
    "При этом $AB = A'B'$. И мы знаем, что $\\chi(\\lambda) = \\det(\\lambda E - AB) = \\det(\\lambda E - A'B') = \\det(\\lambda E - B'A')$.\n",
    "\n",
    "При этом\n",
    "$$\n",
    "\\lambda E - B'A' = \n",
    "\\begin{pmatrix}\n",
    "BA & 0 \\\\\n",
    "0 & \\lambda E\n",
    "\\end{pmatrix}\n",
    "$$\n",
    "\n",
    "В таком случае $\\det(\\lambda E - B'A') = \\det(\\lambda E - BA) \\lambda^3$\n",
    "\n",
    "Посчитаем:\n",
    "$$\n",
    "\\lambda E - BA =\n",
    "\\begin{bmatrix}\n",
    "\\lambda - 1 & 1 \\\\\n",
    "11 & \\lambda + 11\n",
    "\\end{bmatrix} \n",
    "$$\n",
    "\n",
    "$$\n",
    "\\chi(\\lambda) = \\det(\\lambda E - BA) \\lambda^3 = \\det\\left(\n",
    "\\begin{bmatrix}\n",
    "\\lambda - 1 & -1 \\\\\n",
    "11 & \\lambda + 11\n",
    "\\end{bmatrix}\n",
    "\\right) \\lambda^3 \\\\\n",
    "= \\lambda^5 + 10\\lambda^4\n",
    "$$"
   ]
  }
 ],
 "metadata": {
  "kernelspec": {
   "display_name": "Python 3.10.7 64-bit",
   "language": "python",
   "name": "python3"
  },
  "language_info": {
   "codemirror_mode": {
    "name": "ipython",
    "version": 3
   },
   "file_extension": ".py",
   "mimetype": "text/x-python",
   "name": "python",
   "nbconvert_exporter": "python",
   "pygments_lexer": "ipython3",
   "version": "3.10.7"
  },
  "orig_nbformat": 4,
  "vscode": {
   "interpreter": {
    "hash": "767d51c1340bd893661ea55ea3124f6de3c7a262a8b4abca0554b478b1e2ff90"
   }
  }
 },
 "nbformat": 4,
 "nbformat_minor": 2
}
