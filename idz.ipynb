{
 "cells": [
  {
   "cell_type": "code",
   "execution_count": 12,
   "metadata": {},
   "outputs": [],
   "source": [
    "import os\n",
    "try:\n",
    "    import google.colab\n",
    "    IS_COLAB = True\n",
    "    !git clone https://github.com/deker104/idz-1\n",
    "    os.chdir('/content/idz-1')\n",
    "    !git pull\n",
    "except ImportError:\n",
    "    IS_COLAB = False"
   ]
  },
  {
   "cell_type": "code",
   "execution_count": 13,
   "metadata": {},
   "outputs": [],
   "source": [
    "from matrix import Matrix"
   ]
  },
  {
   "cell_type": "code",
   "execution_count": 14,
   "metadata": {},
   "outputs": [],
   "source": [
    "a = Matrix([\n",
    "    [-1, -2, -3],\n",
    "    [-3, 2, -1],\n",
    "    [3, 1, 4],\n",
    "    [2, 3, 5],\n",
    "    [4, 4, 8]\n",
    "])\n",
    "\n",
    "b = Matrix([\n",
    "    [1, 0, 0, 1],\n",
    "    [3, 0, 1, 0],\n",
    "    [-3, 1, 0, 0]\n",
    "])"
   ]
  },
  {
   "cell_type": "code",
   "execution_count": 15,
   "metadata": {},
   "outputs": [],
   "source": [
    "c = a @ b"
   ]
  },
  {
   "cell_type": "code",
   "execution_count": 16,
   "metadata": {},
   "outputs": [
    {
     "data": {
      "text/latex": [
       "\\begin{bmatrix}\n",
       "2 & -3 & -2 & -1 \\\\\n",
       "6 & -1 & 2 & -3 \\\\\n",
       "-6 & 4 & 1 & 3 \\\\\n",
       "-4 & 5 & 3 & 2 \\\\\n",
       "-8 & 8 & 4 & 4 \\\\\n",
       "\n",
       "\\end{bmatrix}"
      ],
      "text/plain": [
       "<matrix.Matrix at 0x7f028451b730>"
      ]
     },
     "execution_count": 16,
     "metadata": {},
     "output_type": "execute_result"
    }
   ],
   "source": [
    "c"
   ]
  },
  {
   "cell_type": "code",
   "execution_count": 17,
   "metadata": {},
   "outputs": [
    {
     "data": {
      "text/latex": [
       "\\begin{bmatrix}\n",
       "1 & 0 & \\frac{1}{2} & -\\frac{1}{2} \\\\\n",
       "0 & 1 & 1 & 0 \\\\\n",
       "0 & 0 & 0 & 0 \\\\\n",
       "0 & 0 & 0 & 0 \\\\\n",
       "0 & 0 & 0 & 0 \\\\\n",
       "\n",
       "\\end{bmatrix}"
      ],
      "text/plain": [
       "<matrix.Matrix at 0x7f028451b730>"
      ]
     },
     "execution_count": 17,
     "metadata": {},
     "output_type": "execute_result"
    }
   ],
   "source": [
    "c.make_perfect()"
   ]
  },
  {
   "cell_type": "code",
   "execution_count": null,
   "metadata": {},
   "outputs": [],
   "source": []
  }
 ],
 "metadata": {
  "kernelspec": {
   "display_name": "Python 3.10.7 64-bit",
   "language": "python",
   "name": "python3"
  },
  "language_info": {
   "codemirror_mode": {
    "name": "ipython",
    "version": 3
   },
   "file_extension": ".py",
   "mimetype": "text/x-python",
   "name": "python",
   "nbconvert_exporter": "python",
   "pygments_lexer": "ipython3",
   "version": "3.10.7"
  },
  "orig_nbformat": 4,
  "vscode": {
   "interpreter": {
    "hash": "767d51c1340bd893661ea55ea3124f6de3c7a262a8b4abca0554b478b1e2ff90"
   }
  }
 },
 "nbformat": 4,
 "nbformat_minor": 2
}
