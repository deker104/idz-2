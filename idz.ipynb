{
 "cells": [
  {
   "cell_type": "code",
   "execution_count": 1,
   "metadata": {},
   "outputs": [],
   "source": [
    "import os\n",
    "\n",
    "try:\n",
    "    import google.colab\n",
    "    IS_COLAB = True\n",
    "except ImportError:\n",
    "    IS_COLAB = False\n",
    "\n",
    "if IS_COLAB:\n",
    "    !git clone https://github.com/deker104/idz-1\n",
    "    os.chdir('/content/idz-1')\n",
    "    !git pull"
   ]
  },
  {
   "cell_type": "code",
   "execution_count": 2,
   "metadata": {},
   "outputs": [],
   "source": [
    "from matrix import Matrix\n",
    "from polynomial import Polynomial"
   ]
  },
  {
   "cell_type": "markdown",
   "metadata": {},
   "source": [
    "# Задача 1\n",
    "\n",
    "Давайте просто посчитаем $C = AB$ и решим уравнение $Cx = 0$"
   ]
  },
  {
   "cell_type": "code",
   "execution_count": 3,
   "metadata": {},
   "outputs": [
    {
     "data": {
      "text/latex": [
       "\\begin{bmatrix}\n",
       "2 & -3 & -2 & -1 \\\\\n",
       "6 & -1 & 2 & -3 \\\\\n",
       "-6 & 4 & 1 & 3 \\\\\n",
       "-4 & 5 & 3 & 2 \\\\\n",
       "-8 & 8 & 4 & 4 \\\\\n",
       "\n",
       "\\end{bmatrix}"
      ],
      "text/plain": [
       "<matrix.Matrix at 0x7fe64c9a1780>"
      ]
     },
     "execution_count": 3,
     "metadata": {},
     "output_type": "execute_result"
    }
   ],
   "source": [
    "A = Matrix([\n",
    "    [-1, -2, -3],\n",
    "    [-3, 2, -1],\n",
    "    [3, 1, 4],\n",
    "    [2, 3, 5],\n",
    "    [4, 4, 8]\n",
    "])\n",
    "\n",
    "B = Matrix([\n",
    "    [1, 0, 0, 1],\n",
    "    [3, 0, 1, 0],\n",
    "    [-3, 1, 0, 0]\n",
    "])\n",
    "\n",
    "C = A @ B\n",
    "\n",
    "C"
   ]
  },
  {
   "cell_type": "code",
   "execution_count": 4,
   "metadata": {},
   "outputs": [
    {
     "data": {
      "text/latex": [
       "\\begin{bmatrix}\n",
       "1 & 0 & \\frac{1}{2} & -\\frac{1}{2} \\\\\n",
       "0 & 1 & 1 & 0 \\\\\n",
       "0 & 0 & 0 & 0 \\\\\n",
       "0 & 0 & 0 & 0 \\\\\n",
       "0 & 0 & 0 & 0 \\\\\n",
       "\n",
       "\\end{bmatrix}"
      ],
      "text/plain": [
       "<matrix.Matrix at 0x7fe64c9a1780>"
      ]
     },
     "execution_count": 4,
     "metadata": {},
     "output_type": "execute_result"
    }
   ],
   "source": [
    "C.make_perfect()"
   ]
  },
  {
   "cell_type": "markdown",
   "metadata": {},
   "source": [
    "Получили решения:\n",
    "$$\n",
    "\\begin{bmatrix}\n",
    "x_1 \\\\\n",
    "x_2\n",
    "\\end{bmatrix}\n",
    "=\n",
    "-\\begin{bmatrix}\n",
    "\\frac{x_3}{2} - \\frac{x_4}{2} \\\\\n",
    "x_3\n",
    "\\end{bmatrix}\n",
    "$$\n",
    "\n",
    "Где $x_3, x_4$ -- любые действительные числа."
   ]
  },
  {
   "cell_type": "markdown",
   "metadata": {},
   "source": [
    "# Задача 2\n",
    "\n",
    "Представим матрицу $A$ как $A_0 + A_1 t$"
   ]
  },
  {
   "cell_type": "code",
   "execution_count": 5,
   "metadata": {},
   "outputs": [],
   "source": [
    "A_0 = Matrix([\n",
    "    [-3, 0, 0],\n",
    "    [4, -3, -8],\n",
    "    [0, 0, -3]\n",
    "])\n",
    "\n",
    "A_1 = Matrix([\n",
    "    [0, 0, 2],\n",
    "    [0, 0, 5],\n",
    "    [0, 0, 1]\n",
    "])\n",
    "\n",
    "A = Polynomial([A_0, A_1], 't')"
   ]
  },
  {
   "cell_type": "markdown",
   "metadata": {},
   "source": [
    "Мы знаем, что минимальный многочлен матрицы имеет степень не больше чем размер матрицы. Посчитаем $A^0, A^1, A^2, A^2$:"
   ]
  },
  {
   "cell_type": "code",
   "execution_count": 6,
   "metadata": {},
   "outputs": [
    {
     "data": {
      "text/latex": [
       "$$\\begin{bmatrix}\n",
       "1 & 0 & 0 \\\\\n",
       "0 & 1 & 0 \\\\\n",
       "0 & 0 & 1 \\\\\n",
       "\n",
       "\\end{bmatrix}$$"
      ],
      "text/plain": [
       "<polynomial.Polynomial at 0x7fe64c9a3250>"
      ]
     },
     "metadata": {},
     "output_type": "display_data"
    },
    {
     "data": {
      "text/latex": [
       "$$\\begin{bmatrix}\n",
       "-3 & 0 & 0 \\\\\n",
       "4 & -3 & -8 \\\\\n",
       "0 & 0 & -3 \\\\\n",
       "\n",
       "\\end{bmatrix} + \\begin{bmatrix}\n",
       "0 & 0 & 2 \\\\\n",
       "0 & 0 & 5 \\\\\n",
       "0 & 0 & 1 \\\\\n",
       "\n",
       "\\end{bmatrix}t$$"
      ],
      "text/plain": [
       "<polynomial.Polynomial at 0x7fe64c9a3520>"
      ]
     },
     "metadata": {},
     "output_type": "display_data"
    },
    {
     "data": {
      "text/latex": [
       "$$\\begin{bmatrix}\n",
       "9 & 0 & 0 \\\\\n",
       "-24 & 9 & 48 \\\\\n",
       "0 & 0 & 9 \\\\\n",
       "\n",
       "\\end{bmatrix} + \\begin{bmatrix}\n",
       "0 & 0 & -12 \\\\\n",
       "0 & 0 & -30 \\\\\n",
       "0 & 0 & -6 \\\\\n",
       "\n",
       "\\end{bmatrix}t + \\begin{bmatrix}\n",
       "0 & 0 & 2 \\\\\n",
       "0 & 0 & 5 \\\\\n",
       "0 & 0 & 1 \\\\\n",
       "\n",
       "\\end{bmatrix}t^2$$"
      ],
      "text/plain": [
       "<polynomial.Polynomial at 0x7fe64c9a24a0>"
      ]
     },
     "metadata": {},
     "output_type": "display_data"
    },
    {
     "data": {
      "text/latex": [
       "$$\\begin{bmatrix}\n",
       "81 & 0 & 0 \\\\\n",
       "-432 & 81 & 864 \\\\\n",
       "0 & 0 & 81 \\\\\n",
       "\n",
       "\\end{bmatrix} + \\begin{bmatrix}\n",
       "0 & 0 & -216 \\\\\n",
       "0 & 0 & -540 \\\\\n",
       "0 & 0 & -108 \\\\\n",
       "\n",
       "\\end{bmatrix}t + \\begin{bmatrix}\n",
       "0 & 0 & 90 \\\\\n",
       "0 & 0 & 225 \\\\\n",
       "0 & 0 & 45 \\\\\n",
       "\n",
       "\\end{bmatrix}t^2 + \\begin{bmatrix}\n",
       "0 & 0 & -12 \\\\\n",
       "0 & 0 & -30 \\\\\n",
       "0 & 0 & -6 \\\\\n",
       "\n",
       "\\end{bmatrix}t^3$$"
      ],
      "text/plain": [
       "<polynomial.Polynomial at 0x7fe64c9a2d70>"
      ]
     },
     "metadata": {},
     "output_type": "display_data"
    }
   ],
   "source": [
    "powers = [\n",
    "    Polynomial([Matrix.identity(3)], 't'),\n",
    "    A,\n",
    "    A * A,\n",
    "    A * A * A\n",
    "]\n",
    "\n",
    "for polynomial in powers:\n",
    "    display(polynomial)"
   ]
  },
  {
   "cell_type": "markdown",
   "metadata": {},
   "source": [
    "В матрице существует три клетки, значение в которых в любом многочлене не будет зависеть от t, и при этом может быть не нулевым: $A_{1, 1}, A_{2, 1}, A_{2, 2}$. Составим из них СЛУ."
   ]
  },
  {
   "cell_type": "code",
   "execution_count": 7,
   "metadata": {},
   "outputs": [
    {
     "data": {
      "text/latex": [
       "\\begin{bmatrix}\n",
       "1 & -3 & 9 & 81 \\\\\n",
       "0 & 4 & -24 & -432 \\\\\n",
       "1 & -3 & 9 & 81 \\\\\n",
       "\n",
       "\\end{bmatrix}"
      ],
      "text/plain": [
       "<matrix.Matrix at 0x7fe64c9a1060>"
      ]
     },
     "execution_count": 7,
     "metadata": {},
     "output_type": "execute_result"
    }
   ],
   "source": [
    "positions = [(0, 0), (1, 0), (1, 1)]\n",
    "polynomial_matrix = Matrix([\n",
    "    [polynomial.matrices[0].data[row][col] for polynomial in powers]\n",
    "    for row, col in positions\n",
    "])\n",
    "polynomial_matrix"
   ]
  },
  {
   "cell_type": "code",
   "execution_count": 8,
   "metadata": {},
   "outputs": [
    {
     "data": {
      "text/latex": [
       "\\begin{bmatrix}\n",
       "1 & 0 & -9 & -243 \\\\\n",
       "0 & 1 & -6 & -108 \\\\\n",
       "0 & 0 & 0 & 0 \\\\\n",
       "\n",
       "\\end{bmatrix}"
      ],
      "text/plain": [
       "<matrix.Matrix at 0x7fe64c9a1060>"
      ]
     },
     "execution_count": 8,
     "metadata": {},
     "output_type": "execute_result"
    }
   ],
   "source": [
    "polynomial_matrix.make_perfect()"
   ]
  },
  {
   "cell_type": "markdown",
   "metadata": {},
   "source": [
    "Решение этого уравнения:\n",
    "$$\n",
    "\\begin{bmatrix}\n",
    "x_0 \\\\\n",
    "x_1\n",
    "\\end{bmatrix}\n",
    "=\\begin{bmatrix}\n",
    "9x_2 + 243x_3 \\\\\n",
    "6x_2 + 108x_3\n",
    "\\end{bmatrix}\n",
    "$$\n",
    "\n",
    "Где $x_0, x_1, x_2, x_3$ -- коэффициенты искомого минимального многочлена.\n",
    "\n",
    "Получили, что если минимальный многочлен $f$ имеет степень 2, то он равен $f(A) = 9 + 6A + A^2$. Попробуем посчитать его значение."
   ]
  },
  {
   "cell_type": "code",
   "execution_count": 9,
   "metadata": {},
   "outputs": [
    {
     "data": {
      "text/latex": [
       "$$\\begin{bmatrix}\n",
       "0 & 0 & 2 \\\\\n",
       "0 & 0 & 5 \\\\\n",
       "0 & 0 & 1 \\\\\n",
       "\n",
       "\\end{bmatrix}t^2$$"
      ],
      "text/plain": [
       "<polynomial.Polynomial at 0x7fe64c9a33d0>"
      ]
     },
     "execution_count": 9,
     "metadata": {},
     "output_type": "execute_result"
    }
   ],
   "source": [
    "def minimal_polynomial_degree_2():\n",
    "    return 9 * powers[0] + 6 * powers[1] + powers[2]\n",
    "\n",
    "minimal_polynomial_degree_2()"
   ]
  },
  {
   "cell_type": "markdown",
   "metadata": {},
   "source": [
    "Получается, что если $t = 0$, то минимальный многочлен имеет степень 2 и равен $f(A) = 9 + 6A + A^2$.\n",
    "\n",
    "Во всех остальных случаях многочлен имеет вид:\n",
    "$$\n",
    "f(A) = 9x_2 + 243 + (6x_2 + 108)A + x_2 A^2 + A^3\n",
    "$$\n",
    "\n",
    "Найдём $x_2$:\n",
    "$$\n",
    "9x_2 + 243 + (6x_2 + 108)A + x_2 A^2 + A^3 = 0 \\\\\n",
    "(9 + 6A + A^2)x_2 = -243 - 108A - A^3\n",
    "$$"
   ]
  },
  {
   "cell_type": "code",
   "execution_count": 10,
   "metadata": {},
   "outputs": [
    {
     "data": {
      "text/latex": [
       "$$\\begin{bmatrix}\n",
       "0 & 0 & 2 \\\\\n",
       "0 & 0 & 5 \\\\\n",
       "0 & 0 & 1 \\\\\n",
       "\n",
       "\\end{bmatrix}t^2$$"
      ],
      "text/plain": [
       "<polynomial.Polynomial at 0x7fe64c9a2980>"
      ]
     },
     "metadata": {},
     "output_type": "display_data"
    },
    {
     "data": {
      "text/latex": [
       "$$\\begin{bmatrix}\n",
       "0 & 0 & 90 \\\\\n",
       "0 & 0 & 225 \\\\\n",
       "0 & 0 & 45 \\\\\n",
       "\n",
       "\\end{bmatrix}t^2 + \\begin{bmatrix}\n",
       "0 & 0 & -12 \\\\\n",
       "0 & 0 & -30 \\\\\n",
       "0 & 0 & -6 \\\\\n",
       "\n",
       "\\end{bmatrix}t^3$$"
      ],
      "text/plain": [
       "<polynomial.Polynomial at 0x7fe64c9a2110>"
      ]
     },
     "metadata": {},
     "output_type": "display_data"
    }
   ],
   "source": [
    "lhs = minimal_polynomial_degree_2()\n",
    "rhs = -243 * powers[0] - 108 * powers[1] - powers[3]\n",
    "\n",
    "display(lhs)\n",
    "display(rhs)"
   ]
  },
  {
   "cell_type": "markdown",
   "metadata": {},
   "source": [
    "Получается $x_2 = 6t^3 - 45t^2$.\n",
    "\n",
    "То есть при $t \\neq 0$ минимальный многочлен имеет степень 3 и равен:\n",
    "$$\n",
    "f(A) = 54t^3 - 405t^2 + 243 + (36t^3 + 270t^2 + 108)A + (6t^3 - 45t^2)A^2 + A^3\n",
    "$$"
   ]
  },
  {
   "cell_type": "markdown",
   "metadata": {},
   "source": [
    "# Задача 4\n",
    "\n",
    "Пускай матрица из задачи -- $A$, искомая коммутирующая матрица (таких много) -- $B$. Рассмотрим $[A, B]$, а точнее решим уравнение $[A, B] = 0$."
   ]
  },
  {
   "cell_type": "code",
   "execution_count": 11,
   "metadata": {},
   "outputs": [
    {
     "data": {
      "text/latex": [
       "\\begin{bmatrix}\n",
       "0 & 2 & 0 & 0 & 0 & 0 & -6 & 0 & 0 \\\\\n",
       "0 & 0 & 0 & 0 & 0 & 0 & 0 & -6 & 0 \\\\\n",
       "6 & -10 & 3 & 0 & 0 & 0 & 0 & 0 & -6 \\\\\n",
       "-2 & 0 & 0 & 0 & 2 & 0 & 10 & 0 & 0 \\\\\n",
       "0 & -2 & 0 & 0 & 0 & 0 & 0 & 10 & 0 \\\\\n",
       "0 & 0 & -2 & 6 & -10 & 3 & 0 & 0 & 10 \\\\\n",
       "0 & 0 & 0 & 0 & 0 & 0 & -3 & 2 & 0 \\\\\n",
       "0 & 0 & 0 & 0 & 0 & 0 & 0 & -3 & 0 \\\\\n",
       "0 & 0 & 0 & 0 & 0 & 0 & 6 & -10 & 0 \\\\\n",
       "\n",
       "\\end{bmatrix}"
      ],
      "text/plain": [
       "<matrix.Matrix at 0x7fe65c55ae00>"
      ]
     },
     "execution_count": 11,
     "metadata": {},
     "output_type": "execute_result"
    }
   ],
   "source": [
    "A = Matrix([\n",
    "    [1, 0, -6],\n",
    "    [-2, 1, 10],\n",
    "    [0, 0, -2]\n",
    "])\n",
    "\n",
    "# АХТУНГ: Работает только для матриц 3x3 (потому что magic numbers)\n",
    "equation_matrix = Matrix.zero(9, 9)\n",
    "for row in range(3):\n",
    "    for col in range(3):\n",
    "        for k in range(3):\n",
    "            equation_matrix.data[row * 3 + col][k * 3 + col] += A.data[row][k]\n",
    "            equation_matrix.data[row * 3 + col][row * 3 + k] -= A.data[k][col]\n",
    "equation_matrix"
   ]
  },
  {
   "cell_type": "code",
   "execution_count": 12,
   "metadata": {},
   "outputs": [
    {
     "data": {
      "text/latex": [
       "\\begin{bmatrix}\n",
       "1 & 0 & 0 & 0 & -1 & 0 & 0 & 0 & 0 \\\\\n",
       "0 & 1 & 0 & 0 & 0 & 0 & 0 & 0 & 0 \\\\\n",
       "0 & 0 & 1 & 0 & 2 & 0 & 0 & 0 & -2 \\\\\n",
       "0 & 0 & 0 & 1 & -1 & \\frac{1}{2} & 0 & 0 & 1 \\\\\n",
       "0 & 0 & 0 & 0 & 0 & 0 & 1 & 0 & 0 \\\\\n",
       "0 & 0 & 0 & 0 & 0 & 0 & 0 & 1 & 0 \\\\\n",
       "0 & 0 & 0 & 0 & 0 & 0 & 0 & 0 & 0 \\\\\n",
       "0 & 0 & 0 & 0 & 0 & 0 & 0 & 0 & 0 \\\\\n",
       "0 & 0 & 0 & 0 & 0 & 0 & 0 & 0 & 0 \\\\\n",
       "\n",
       "\\end{bmatrix}"
      ],
      "text/plain": [
       "<matrix.Matrix at 0x7fe65c55ae00>"
      ]
     },
     "execution_count": 12,
     "metadata": {},
     "output_type": "execute_result"
    }
   ],
   "source": [
    "equation_matrix.make_perfect()"
   ]
  },
  {
   "cell_type": "markdown",
   "metadata": {},
   "source": [
    "В уравнении получились три свободные переменные: $A_{2, 2}, A_{2, 3}, A_{3, 3}$. Обозначим их как $x_1, x_2, x_3$ соответственно.\n",
    "\n",
    "Получили, что матрица $B$ имеет следующий вид:\n",
    "$$\n",
    "B = \\begin{bmatrix}\n",
    "x_1 & 0 & 2x_3 - 2x_1 \\\\\n",
    "x_1 - \\frac{x_2}{2} - x_3 & x_1 & x_2 \\\\\n",
    "0 & 0 & x_3\n",
    "\\end{bmatrix}\n",
    "$$\n",
    "\n",
    "Где $x1, x2, x3$ -- любые действительные числа."
   ]
  },
  {
   "cell_type": "markdown",
   "metadata": {},
   "source": [
    "# Задача 3\n",
    "\n",
    "Заметим, что обе строки $A$ должны при умножении на любой из векторов-столбцов из условия давать 0. Так как других ограничений пока нет, то найдем общий вид какой-то строки $B$ матрицы $A$."
   ]
  },
  {
   "cell_type": "code",
   "execution_count": 13,
   "metadata": {},
   "outputs": [
    {
     "data": {
      "text/latex": [
       "\\begin{bmatrix}\n",
       "1 & 0 & \\frac{18}{23} \\\\\n",
       "0 & 1 & \\frac{3}{23} \\\\\n",
       "\n",
       "\\end{bmatrix}"
      ],
      "text/plain": [
       "<matrix.Matrix at 0x7fe65c310cd0>"
      ]
     },
     "execution_count": 13,
     "metadata": {},
     "output_type": "execute_result"
    }
   ],
   "source": [
    "A = Matrix([\n",
    "    [-7, -4, -6],\n",
    "    [-8, 2, -6]\n",
    "])\n",
    "\n",
    "A.make_perfect()"
   ]
  },
  {
   "cell_type": "markdown",
   "metadata": {},
   "source": [
    "Пускай $x = \\frac{B_3}{23}$. Тогда получили общий вид строки $B$ и матрицы $A$:\n",
    "$$\n",
    "B = \\begin{bmatrix}\n",
    "-18x & -3x & 23x\n",
    "\\end{bmatrix}\n",
    "$$\n",
    "$$\n",
    "A = \\begin{bmatrix}\n",
    "-18x_1 & -3x_1 & 23x_1 \\\\\n",
    "-18x_2 & -3x_2 & 23x_2\n",
    "\\end{bmatrix}\n",
    "$$\n",
    "Пусть $x_1 = 4, x_2 = 1$, тогда уравнение\n",
    "$$\n",
    "\\begin{bmatrix}\n",
    "-72 & -12 & 92 \\\\\n",
    "-18 & -3 & 23\n",
    "\\end{bmatrix}x\n",
    "=\\begin{bmatrix}\n",
    "4 \\\\\n",
    "1\n",
    "\\end{bmatrix}\n",
    "$$\n",
    "вполне себе имеет решения, ведь оно равносильно уравнению\n",
    "$$\n",
    "\\begin{bmatrix}\n",
    "-18 & -3 & 23\n",
    "\\end{bmatrix}x\n",
    "= 1\n",
    "$$,\n",
    "одним из решений которого, например, является $x = \\begin{bmatrix}-1 \\\\ -2 \\\\ -1\\end{bmatrix}$"
   ]
  },
  {
   "cell_type": "markdown",
   "metadata": {},
   "source": [
    "# Задача 5\n",
    "\n",
    "Найдём такое разложение, составив и решив СЛУ."
   ]
  },
  {
   "cell_type": "code",
   "execution_count": 14,
   "metadata": {},
   "outputs": [
    {
     "data": {
      "text/latex": [
       "\\begin{bmatrix}\n",
       "2 & 0 & 0 & -1 & 0 & 0 & 3 \\\\\n",
       "-1 & 0 & 0 & 0 & -1 & 0 & -4 \\\\\n",
       "1 & 0 & 0 & 0 & 0 & -1 & 4 \\\\\n",
       "0 & 2 & 0 & 2 & 0 & 0 & -2 \\\\\n",
       "0 & -1 & 0 & 0 & 2 & 0 & 6 \\\\\n",
       "0 & 1 & 0 & 0 & 0 & 2 & -6 \\\\\n",
       "0 & 0 & 2 & 4 & 0 & 0 & 2 \\\\\n",
       "0 & 0 & -1 & 0 & 4 & 0 & 9 \\\\\n",
       "0 & 0 & 1 & 0 & 0 & 4 & -9 \\\\\n",
       "\n",
       "\\end{bmatrix}"
      ],
      "text/plain": [
       "<matrix.Matrix at 0x7fe65c311960>"
      ]
     },
     "execution_count": 14,
     "metadata": {},
     "output_type": "execute_result"
    }
   ],
   "source": [
    "A = Matrix([\n",
    "    [-3, 4, -4],\n",
    "    [2, -6, 6],\n",
    "    [-2, -9, 9]\n",
    "])\n",
    "row_1 = [-1, 2, 4]\n",
    "row_2 = [2, -1, 1]\n",
    "\n",
    "# АХТУНГ: Работает только для матриц 3x3 (потому что magic numbers)\n",
    "equation = Matrix.zero(9, 7)\n",
    "for row in range(3):\n",
    "    for col in range(3):\n",
    "        equation.data[row * 3 + col][row] += row_2[col]\n",
    "        equation.data[row * 3 + col][col + 3] += row_1[row]\n",
    "        equation.data[row * 3 + col][6] = -A.data[row][col]\n",
    "equation"
   ]
  },
  {
   "cell_type": "code",
   "execution_count": 15,
   "metadata": {},
   "outputs": [
    {
     "data": {
      "text/latex": [
       "\\begin{bmatrix}\n",
       "1 & 0 & 0 & 0 & 0 & -1 & 4 \\\\\n",
       "0 & 1 & 0 & 0 & 0 & 2 & -6 \\\\\n",
       "0 & 0 & 1 & 0 & 0 & 4 & -9 \\\\\n",
       "0 & 0 & 0 & 1 & 0 & -2 & 5 \\\\\n",
       "0 & 0 & 0 & 0 & 1 & 1 & 0 \\\\\n",
       "0 & 0 & 0 & 0 & 0 & 0 & 0 \\\\\n",
       "0 & 0 & 0 & 0 & 0 & 0 & 0 \\\\\n",
       "0 & 0 & 0 & 0 & 0 & 0 & 0 \\\\\n",
       "0 & 0 & 0 & 0 & 0 & 0 & 0 \\\\\n",
       "\n",
       "\\end{bmatrix}"
      ],
      "text/plain": [
       "<matrix.Matrix at 0x7fe65c311960>"
      ]
     },
     "execution_count": 15,
     "metadata": {},
     "output_type": "execute_result"
    }
   ],
   "source": [
    "equation.make_perfect()"
   ]
  },
  {
   "cell_type": "markdown",
   "metadata": {},
   "source": [
    "Методом пристольного взгляда замечаем, что одним из разложений является:\n",
    "$$\n",
    "X = \\begin{bmatrix}\n",
    "-1 & -3 \\\\\n",
    "2 & 4 \\\\\n",
    "4 & 5 \\\\\n",
    "\\end{bmatrix}\n",
    "$$\n",
    "$$\n",
    "Y = \\begin{bmatrix}\n",
    "-3 & -1 & 1 \\\\\n",
    "2 & -1 & 1\n",
    "\\end{bmatrix}\n",
    "$$"
   ]
  },
  {
   "cell_type": "code",
   "execution_count": 16,
   "metadata": {},
   "outputs": [
    {
     "data": {
      "text/latex": [
       "\\begin{bmatrix}\n",
       "-3 & 4 & -4 \\\\\n",
       "2 & -6 & 6 \\\\\n",
       "-2 & -9 & 9 \\\\\n",
       "\n",
       "\\end{bmatrix}"
      ],
      "text/plain": [
       "<matrix.Matrix at 0x7fe65c310a00>"
      ]
     },
     "execution_count": 16,
     "metadata": {},
     "output_type": "execute_result"
    }
   ],
   "source": [
    "X = Matrix([\n",
    "    [-1, -3],\n",
    "    [2, 4],\n",
    "    [4, 5]\n",
    "])\n",
    "Y = Matrix([\n",
    "    [-3, -1, 1],\n",
    "    [2, -1, 1]\n",
    "])\n",
    "\n",
    "X @ Y"
   ]
  },
  {
   "cell_type": "markdown",
   "metadata": {},
   "source": [
    "Теперь заметим, что $\\mathrm{trace}(A^{2024}) = \\mathrm{trace}((XY)^{2024}) = \\mathrm{trace}((YX)^{2024})$\n",
    "\n",
    "При этом $YX = $"
   ]
  },
  {
   "cell_type": "code",
   "execution_count": 17,
   "metadata": {},
   "outputs": [
    {
     "data": {
      "text/latex": [
       "\\begin{bmatrix}\n",
       "5 & 10 \\\\\n",
       "0 & -5 \\\\\n",
       "\n",
       "\\end{bmatrix}"
      ],
      "text/plain": [
       "<matrix.Matrix at 0x7fe65ea53a00>"
      ]
     },
     "execution_count": 17,
     "metadata": {},
     "output_type": "execute_result"
    }
   ],
   "source": [
    "Y @ X"
   ]
  }
 ],
 "metadata": {
  "kernelspec": {
   "display_name": "Python 3.10.7 64-bit",
   "language": "python",
   "name": "python3"
  },
  "language_info": {
   "codemirror_mode": {
    "name": "ipython",
    "version": 3
   },
   "file_extension": ".py",
   "mimetype": "text/x-python",
   "name": "python",
   "nbconvert_exporter": "python",
   "pygments_lexer": "ipython3",
   "version": "3.10.7"
  },
  "orig_nbformat": 4,
  "vscode": {
   "interpreter": {
    "hash": "767d51c1340bd893661ea55ea3124f6de3c7a262a8b4abca0554b478b1e2ff90"
   }
  }
 },
 "nbformat": 4,
 "nbformat_minor": 2
}
