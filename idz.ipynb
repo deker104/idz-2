{
 "cells": [
  {
   "cell_type": "markdown",
   "metadata": {},
   "source": [
    "# 0. Подготовка"
   ]
  },
  {
   "cell_type": "code",
   "execution_count": 9,
   "metadata": {},
   "outputs": [],
   "source": [
    "import os\n",
    "try:\n",
    "    import google.colab\n",
    "    IS_COLAB = True\n",
    "except ImportError:\n",
    "    IS_COLAB = False\n",
    "if IS_COLAB:\n",
    "    !git clone https://github.com/deker104/idz-1\n",
    "    os.chdir('/content/idz-1')\n",
    "    !git pull"
   ]
  },
  {
   "cell_type": "code",
   "execution_count": 10,
   "metadata": {},
   "outputs": [],
   "source": [
    "from matrix import Matrix\n",
    "from polynom import Polynom"
   ]
  },
  {
   "cell_type": "markdown",
   "metadata": {},
   "source": [
    "# 1. Задача 1\n",
    "\n",
    "Давайте просто посчитаем $C = AB$ и решим уравнение $Cx = 0$"
   ]
  },
  {
   "cell_type": "code",
   "execution_count": 11,
   "metadata": {},
   "outputs": [
    {
     "data": {
      "text/latex": [
       "\\begin{bmatrix}\n",
       "2 & -3 & -2 & -1 \\\\\n",
       "6 & -1 & 2 & -3 \\\\\n",
       "-6 & 4 & 1 & 3 \\\\\n",
       "-4 & 5 & 3 & 2 \\\\\n",
       "-8 & 8 & 4 & 4 \\\\\n",
       "\n",
       "\\end{bmatrix}"
      ],
      "text/plain": [
       "<matrix.Matrix at 0x7606c92e90>"
      ]
     },
     "execution_count": 11,
     "metadata": {},
     "output_type": "execute_result"
    }
   ],
   "source": [
    "A = Matrix([\n",
    "    [-1, -2, -3],\n",
    "    [-3, 2, -1],\n",
    "    [3, 1, 4],\n",
    "    [2, 3, 5],\n",
    "    [4, 4, 8]\n",
    "])\n",
    "\n",
    "B = Matrix([\n",
    "    [1, 0, 0, 1],\n",
    "    [3, 0, 1, 0],\n",
    "    [-3, 1, 0, 0]\n",
    "])\n",
    "\n",
    "C = A @ B\n",
    "C"
   ]
  },
  {
   "cell_type": "code",
   "execution_count": 12,
   "metadata": {},
   "outputs": [
    {
     "data": {
      "text/latex": [
       "\\begin{bmatrix}\n",
       "1 & 0 & \\frac{1}{2} & -\\frac{1}{2} \\\\\n",
       "0 & 1 & 1 & 0 \\\\\n",
       "0 & 0 & 0 & 0 \\\\\n",
       "0 & 0 & 0 & 0 \\\\\n",
       "0 & 0 & 0 & 0 \\\\\n",
       "\n",
       "\\end{bmatrix}"
      ],
      "text/plain": [
       "<matrix.Matrix at 0x7606c92e90>"
      ]
     },
     "execution_count": 12,
     "metadata": {},
     "output_type": "execute_result"
    }
   ],
   "source": [
    "C.make_perfect()"
   ]
  },
  {
   "cell_type": "markdown",
   "metadata": {},
   "source": [
    "Получили решения:\n",
    "$$\n",
    "\\begin{bmatrix}\n",
    "x_1 \\\\\n",
    "x_2\n",
    "\\end{bmatrix}\n",
    "=\n",
    "-\\begin{bmatrix}\n",
    "\\frac{x_3}{2} - \\frac{x_4}{2} \\\\\n",
    "x_3\n",
    "\\end{bmatrix}\n",
    "$$"
   ]
  },
  {
   "cell_type": "markdown",
   "metadata": {},
   "source": [
    "# Задача 2\n",
    "\n",
    "Представим матрицу $A$ как $A_0 + t A_1$"
   ]
  },
  {
   "cell_type": "code",
   "execution_count": 13,
   "metadata": {},
   "outputs": [],
   "source": [
    "A_0 = Matrix([\n",
    "    [-3, 0, 0],\n",
    "    [4, -3, -8],\n",
    "    [0, 0, -3]\n",
    "])\n",
    "\n",
    "A_1 = Matrix([\n",
    "    [0, 0, 2],\n",
    "    [0, 0, 5],\n",
    "    [0, 0, 1]\n",
    "])\n",
    "\n",
    "A = Polynom([A_0, A_1])"
   ]
  },
  {
   "cell_type": "code",
   "execution_count": 14,
   "metadata": {},
   "outputs": [
    {
     "data": {
      "text/latex": [
       "\\begin{bmatrix}\n",
       "1 & 0 & 0 \\\\\n",
       "0 & 1 & 0 \\\\\n",
       "0 & 0 & 1 \\\\\n",
       "\n",
       "\\end{bmatrix}"
      ],
      "text/plain": [
       "<matrix.Matrix at 0x7606e384c0>"
      ]
     },
     "metadata": {},
     "output_type": "display_data"
    },
    {
     "data": {
      "text/latex": [
       "$$x^0 \\begin{bmatrix}\n",
       "-3 & 0 & 0 \\\\\n",
       "4 & -3 & -8 \\\\\n",
       "0 & 0 & -3 \\\\\n",
       "\n",
       "\\end{bmatrix} + x^1 \\begin{bmatrix}\n",
       "0 & 0 & 2 \\\\\n",
       "0 & 0 & 5 \\\\\n",
       "0 & 0 & 1 \\\\\n",
       "\n",
       "\\end{bmatrix}$$"
      ],
      "text/plain": [
       "<polynom.Polynom at 0x7606e09180>"
      ]
     },
     "metadata": {},
     "output_type": "display_data"
    },
    {
     "data": {
      "text/latex": [
       "$$x^0 \\begin{bmatrix}\n",
       "9 & 0 & 0 \\\\\n",
       "-24 & 9 & 48 \\\\\n",
       "0 & 0 & 9 \\\\\n",
       "\n",
       "\\end{bmatrix} + x^1 \\begin{bmatrix}\n",
       "0 & 0 & -12 \\\\\n",
       "0 & 0 & -30 \\\\\n",
       "0 & 0 & -6 \\\\\n",
       "\n",
       "\\end{bmatrix} + x^2 \\begin{bmatrix}\n",
       "0 & 0 & 2 \\\\\n",
       "0 & 0 & 5 \\\\\n",
       "0 & 0 & 1 \\\\\n",
       "\n",
       "\\end{bmatrix}$$"
      ],
      "text/plain": [
       "<polynom.Polynom at 0x760672ed70>"
      ]
     },
     "metadata": {},
     "output_type": "display_data"
    },
    {
     "data": {
      "text/latex": [
       "$$x^0 \\begin{bmatrix}\n",
       "81 & 0 & 0 \\\\\n",
       "-432 & 81 & 864 \\\\\n",
       "0 & 0 & 81 \\\\\n",
       "\n",
       "\\end{bmatrix} + x^1 \\begin{bmatrix}\n",
       "0 & 0 & -216 \\\\\n",
       "0 & 0 & -540 \\\\\n",
       "0 & 0 & -108 \\\\\n",
       "\n",
       "\\end{bmatrix} + x^2 \\begin{bmatrix}\n",
       "0 & 0 & 90 \\\\\n",
       "0 & 0 & 225 \\\\\n",
       "0 & 0 & 45 \\\\\n",
       "\n",
       "\\end{bmatrix} + x^3 \\begin{bmatrix}\n",
       "0 & 0 & -12 \\\\\n",
       "0 & 0 & -30 \\\\\n",
       "0 & 0 & -6 \\\\\n",
       "\n",
       "\\end{bmatrix}$$"
      ],
      "text/plain": [
       "<polynom.Polynom at 0x7606b95270>"
      ]
     },
     "metadata": {},
     "output_type": "display_data"
    }
   ],
   "source": [
    "display(Matrix.identity(3))\n",
    "display(A)\n",
    "display(A * A)\n",
    "display(A * A * A)"
   ]
  },
  {
   "cell_type": "code",
   "execution_count": null,
   "metadata": {},
   "outputs": [],
   "source": []
  }
 ],
 "metadata": {
  "kernelspec": {
   "display_name": "Python 3.10.7 64-bit",
   "language": "python",
   "name": "python3"
  },
  "language_info": {
   "codemirror_mode": {
    "name": "ipython",
    "version": 3
   },
   "file_extension": ".py",
   "mimetype": "text/x-python",
   "name": "python",
   "nbconvert_exporter": "python",
   "pygments_lexer": "ipython3",
   "version": "3.10.8"
  },
  "orig_nbformat": 4,
  "vscode": {
   "interpreter": {
    "hash": "767d51c1340bd893661ea55ea3124f6de3c7a262a8b4abca0554b478b1e2ff90"
   }
  }
 },
 "nbformat": 4,
 "nbformat_minor": 2
}
